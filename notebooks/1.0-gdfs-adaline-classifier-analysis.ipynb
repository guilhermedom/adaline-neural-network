{
 "cells": [
  {
   "cell_type": "code",
   "execution_count": null,
   "metadata": {},
   "outputs": [],
   "source": [
    "import matplotlib.pyplot as plt\n",
    "\n",
    "from ..src.utils import create_input, accuracy_score, train_test_split\n",
    "from ..src.models.adaline import Adaline"
   ]
  },
  {
   "cell_type": "code",
   "execution_count": null,
   "metadata": {},
   "outputs": [],
   "source": [
    "sample_dataset = create_input(n = 50, noise = 5)\n",
    "\n",
    "train_x, train_y, test_x, test_y = train_test_split(sample_dataset, 0.7)"
   ]
  },
  {
   "cell_type": "code",
   "execution_count": null,
   "metadata": {},
   "outputs": [],
   "source": [
    "model = Adaline(iterations = 15, learning_rate = 0.001)\n",
    "\n",
    "model.fit(train_x, train_y)"
   ]
  },
  {
   "cell_type": "code",
   "execution_count": null,
   "metadata": {},
   "outputs": [],
   "source": [
    "plt.plot(range(1, len(model.loss_list) + 1), model.loss_list, marker = 'o', color = 'blue')\n",
    "plt.xlabel('Epoch')\n",
    "plt.ylabel('Mean Squared Error')\n",
    "plt.show()"
   ]
  },
  {
   "cell_type": "code",
   "execution_count": null,
   "metadata": {},
   "outputs": [],
   "source": [
    "print(accuracy_score(model.predict(test_x), test_y))"
   ]
  }
 ],
 "metadata": {
  "kernelspec": {
   "display_name": "bf_minhashing",
   "language": "python",
   "name": "python3"
  },
  "language_info": {
   "name": "python",
   "version": "3.8.15 (default, Nov 24 2022, 14:38:14) [MSC v.1916 64 bit (AMD64)]"
  },
  "orig_nbformat": 4,
  "vscode": {
   "interpreter": {
    "hash": "b39e83d7d937e7ce85387f84ef071986d0096be4afb1ae7c3fe160a424884580"
   }
  }
 },
 "nbformat": 4,
 "nbformat_minor": 2
}
